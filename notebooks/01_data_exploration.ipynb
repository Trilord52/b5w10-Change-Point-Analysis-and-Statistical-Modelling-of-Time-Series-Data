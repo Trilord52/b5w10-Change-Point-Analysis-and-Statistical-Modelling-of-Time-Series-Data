{
 "cells": [
  {
   "cell_type": "markdown",
   "id": "4d50d011",
   "metadata": {},
   "source": [
    "Task 1: Data Exploration and Foundation Setup\n",
    "Brent Oil Price Change Point Analysis"
   ]
  },
  {
   "cell_type": "code",
   "execution_count": null,
   "id": "423d4bc9",
   "metadata": {},
   "outputs": [],
   "source": [
    "\"\"\"\n",
    "This script lays the foundation for our analysis by:\n",
    "1. Loading and exploring the Brent oil prices dataset\n",
    "2. Understanding the data structure and characteristics\n",
    "3. Performing initial statistical analysis\n",
    "4. Setting up the workflow for change point detection\n",
    "\n",
    "Dataset: Brent oil prices from May 20, 1987 to September 30, 2022\n",
    "\"\"\""
   ]
  },
  {
   "cell_type": "code",
   "execution_count": null,
   "id": "b3dd4e7b",
   "metadata": {},
   "outputs": [],
   "source": [
    "# Import required libraries\n",
    "import pandas as pd\n",
    "import numpy as np\n",
    "import matplotlib.pyplot as plt\n",
    "import seaborn as sns\n",
    "from datetime import datetime\n",
    "import warnings\n",
    "warnings.filterwarnings('ignore')"
   ]
  },
  {
   "cell_type": "code",
   "execution_count": null,
   "id": "2d30af7a",
   "metadata": {
    "lines_to_next_cell": 1
   },
   "outputs": [],
   "source": [
    "# Set plotting style\n",
    "plt.style.use('seaborn-v0_8')\n",
    "sns.set_palette(\"husl\")\n",
    "plt.rcParams['figure.figsize'] = (12, 8)\n",
    "plt.rcParams['font.size'] = 12"
   ]
  },
  {
   "cell_type": "code",
   "execution_count": null,
   "id": "9e0f8666",
   "metadata": {
    "lines_to_next_cell": 1
   },
   "outputs": [],
   "source": [
    "def load_and_explore_data():\n",
    "    \"\"\"Load and perform initial exploration of the Brent oil prices dataset\"\"\"\n",
    "    \n",
    "    # Load the Brent oil prices dataset\n",
    "    df = pd.read_csv('../data/BrentOilPrices.csv')\n",
    "    \n",
    "    print(\"Dataset Shape:\", df.shape)\n",
    "    print(\"\\nFirst few rows:\")\n",
    "    print(df.head())\n",
    "    print(\"\\nData types:\")\n",
    "    print(df.dtypes)\n",
    "    print(\"\\nMissing values:\")\n",
    "    print(df.isnull().sum())\n",
    "    \n",
    "    return df"
   ]
  },
  {
   "cell_type": "code",
   "execution_count": null,
   "id": "b7412bf4",
   "metadata": {
    "lines_to_next_cell": 1
   },
   "outputs": [],
   "source": [
    "def preprocess_data(df):\n",
    "    \"\"\"Preprocess the data for analysis\"\"\"\n",
    "    \n",
    "    # Convert Date column to datetime\n",
    "    df['Date'] = pd.to_datetime(df['Date'], format='%d-%b-%y')\n",
    "    \n",
    "    # Sort by date\n",
    "    df = df.sort_values('Date').reset_index(drop=True)\n",
    "    \n",
    "    # Set Date as index\n",
    "    df.set_index('Date', inplace=True)\n",
    "    \n",
    "    print(\"Date range:\", df.index.min(), \"to\", df.index.max())\n",
    "    print(\"Total number of observations:\", len(df))\n",
    "    print(\"\\nFirst few rows after preprocessing:\")\n",
    "    print(df.head())\n",
    "    \n",
    "    return df"
   ]
  },
  {
   "cell_type": "code",
   "execution_count": null,
   "id": "c7106133",
   "metadata": {
    "lines_to_next_cell": 1
   },
   "outputs": [],
   "source": [
    "def basic_statistics(df):\n",
    "    \"\"\"Calculate and display basic statistics\"\"\"\n",
    "    \n",
    "    print(\"Basic Statistics:\")\n",
    "    print(df.describe())\n",
    "    \n",
    "    print(\"\\n\" + \"=\"*50)\n",
    "    print(\"KEY INSIGHTS:\")\n",
    "    print(\"=\"*50)\n",
    "    print(f\"Minimum price: ${df['Price'].min():.2f} per barrel\")\n",
    "    print(f\"Maximum price: ${df['Price'].max():.2f} per barrel\")\n",
    "    print(f\"Mean price: ${df['Price'].mean():.2f} per barrel\")\n",
    "    print(f\"Median price: ${df['Price'].median():.2f} per barrel\")\n",
    "    print(f\"Standard deviation: ${df['Price'].std():.2f}\")\n",
    "    print(f\"Data spans: {(df.index.max() - df.index.min()).days} days\")\n",
    "    print(f\"Data spans: {(df.index.max().year - df.index.min().year)} years\")"
   ]
  },
  {
   "cell_type": "code",
   "execution_count": null,
   "id": "5a5891de",
   "metadata": {
    "lines_to_next_cell": 1
   },
   "outputs": [],
   "source": [
    "def plot_time_series(df):\n",
    "    \"\"\"Plot the full time series\"\"\"\n",
    "    \n",
    "    plt.figure(figsize=(15, 8))\n",
    "    plt.plot(df.index, df['Price'], linewidth=1, alpha=0.8)\n",
    "    plt.title('Brent Oil Prices Over Time (1987-2022)', fontsize=16, fontweight='bold')\n",
    "    plt.xlabel('Date', fontsize=12)\n",
    "    plt.ylabel('Price (USD per barrel)', fontsize=12)\n",
    "    plt.grid(True, alpha=0.3)\n",
    "    plt.tight_layout()\n",
    "    plt.show()\n",
    "    \n",
    "    print(\"\\nKey periods to investigate:\")\n",
    "    print(\"1. 2008 Financial Crisis (around 2008-2009)\")\n",
    "    print(\"2. 2014-2016 Oil Price Collapse\")\n",
    "    print(\"3. 2020 COVID-19 Pandemic\")\n",
    "    print(\"4. 2022 Russia-Ukraine Conflict\")"
   ]
  },
  {
   "cell_type": "code",
   "execution_count": null,
   "id": "cae4e33e",
   "metadata": {
    "lines_to_next_cell": 1
   },
   "outputs": [],
   "source": [
    "def analyze_log_returns(df):\n",
    "    \"\"\"Calculate and analyze log returns\"\"\"\n",
    "    \n",
    "    # Calculate log returns\n",
    "    df['log_returns'] = np.log(df['Price'] / df['Price'].shift(1))\n",
    "    \n",
    "    # Remove the first row (NaN due to shift)\n",
    "    df_clean = df.dropna()\n",
    "    \n",
    "    print(\"Log Returns Statistics:\")\n",
    "    print(df_clean['log_returns'].describe())\n",
    "    \n",
    "    # Plot log returns\n",
    "    plt.figure(figsize=(15, 10))\n",
    "    \n",
    "    plt.subplot(2, 1, 1)\n",
    "    plt.plot(df_clean.index, df_clean['log_returns'], linewidth=0.5, alpha=0.7)\n",
    "    plt.title('Log Returns Over Time', fontsize=14, fontweight='bold')\n",
    "    plt.xlabel('Date')\n",
    "    plt.ylabel('Log Returns')\n",
    "    plt.grid(True, alpha=0.3)\n",
    "    \n",
    "    plt.subplot(2, 1, 2)\n",
    "    plt.hist(df_clean['log_returns'], bins=50, alpha=0.7, density=True)\n",
    "    plt.title('Distribution of Log Returns', fontsize=14, fontweight='bold')\n",
    "    plt.xlabel('Log Returns')\n",
    "    plt.ylabel('Density')\n",
    "    plt.grid(True, alpha=0.3)\n",
    "    \n",
    "    plt.tight_layout()\n",
    "    plt.show()\n",
    "    \n",
    "    return df_clean"
   ]
  },
  {
   "cell_type": "code",
   "execution_count": null,
   "id": "ed4a7819",
   "metadata": {
    "lines_to_next_cell": 1
   },
   "outputs": [],
   "source": [
    "def analyze_volatility(df_clean):\n",
    "    \"\"\"Analyze volatility patterns\"\"\"\n",
    "    \n",
    "    # Calculate rolling volatility (30-day window)\n",
    "    df_clean['volatility_30d'] = df_clean['log_returns'].rolling(window=30).std() * np.sqrt(252)\n",
    "    \n",
    "    # Plot volatility\n",
    "    plt.figure(figsize=(15, 8))\n",
    "    plt.plot(df_clean.index, df_clean['volatility_30d'], linewidth=1, alpha=0.8)\n",
    "    plt.title('30-Day Rolling Volatility of Brent Oil Prices', fontsize=16, fontweight='bold')\n",
    "    plt.xlabel('Date', fontsize=12)\n",
    "    plt.ylabel('Annualized Volatility', fontsize=12)\n",
    "    plt.grid(True, alpha=0.3)\n",
    "    plt.tight_layout()\n",
    "    plt.show()\n",
    "    \n",
    "    print(\"\\nVolatility Statistics:\")\n",
    "    print(df_clean['volatility_30d'].describe())"
   ]
  },
  {
   "cell_type": "code",
   "execution_count": null,
   "id": "b84c3bc0",
   "metadata": {
    "lines_to_next_cell": 1
   },
   "outputs": [],
   "source": [
    "def stationarity_tests(df, df_clean):\n",
    "    \"\"\"Perform stationarity tests\"\"\"\n",
    "    \n",
    "    from statsmodels.tsa.stattools import adfuller, kpss\n",
    "    \n",
    "    # ADF Test for price series\n",
    "    adf_result_price = adfuller(df['Price'].dropna())\n",
    "    print(\"ADF Test for Price Series:\")\n",
    "    print(f\"ADF Statistic: {adf_result_price[0]:.6f}\")\n",
    "    print(f\"p-value: {adf_result_price[1]:.6f}\")\n",
    "    print(f\"Critical values: {adf_result_price[4]}\")\n",
    "    \n",
    "    print(\"\\n\" + \"=\"*50)\n",
    "    \n",
    "    # ADF Test for log returns\n",
    "    adf_result_returns = adfuller(df_clean['log_returns'])\n",
    "    print(\"ADF Test for Log Returns:\")\n",
    "    print(f\"ADF Statistic: {adf_result_returns[0]:.6f}\")\n",
    "    print(f\"p-value: {adf_result_returns[1]:.6f}\")\n",
    "    print(f\"Critical values: {adf_result_returns[4]}\")\n",
    "    \n",
    "    print(\"\\n\" + \"=\"*50)\n",
    "    print(\"INTERPRETATION:\")\n",
    "    print(\"=\"*50)\n",
    "    if adf_result_returns[1] < 0.05:\n",
    "        print(\"✓ Log returns are stationary (suitable for change point analysis)\")\n",
    "    else:\n",
    "        print(\"✗ Log returns are not stationary\")\n",
    "    \n",
    "    if adf_result_price[1] < 0.05:\n",
    "        print(\"✓ Price series is stationary\")\n",
    "    else:\n",
    "        print(\"✗ Price series is not stationary (expected for financial time series)\")"
   ]
  },
  {
   "cell_type": "code",
   "execution_count": null,
   "id": "1be373ea",
   "metadata": {
    "lines_to_next_cell": 1
   },
   "outputs": [],
   "source": [
    "def save_results(df_clean):\n",
    "    \"\"\"Save processed data and display summary\"\"\"\n",
    "    \n",
    "    # Save processed data for further analysis\n",
    "    df_clean.to_csv('../data/brent_oil_processed.csv')\n",
    "    print(\"Processed data saved to '../data/brent_oil_processed.csv'\")\n",
    "    \n",
    "    # Display final dataset info\n",
    "    print(f\"\\nFinal dataset shape: {df_clean.shape}\")\n",
    "    print(f\"Date range: {df_clean.index.min()} to {df_clean.index.max()}\")\n",
    "    print(f\"Number of observations: {len(df_clean)}\")\n",
    "    \n",
    "    print(\"\\n\" + \"=\"*50)\n",
    "    print(\"SUMMARY AND NEXT STEPS:\")\n",
    "    print(\"=\"*50)\n",
    "    print(\"Key Findings:\")\n",
    "    print(\"1. Data Coverage: 35+ years of Brent oil price data (1987-2022)\")\n",
    "    print(\"2. Price Range: From ~$10 to ~$140 per barrel\")\n",
    "    print(\"3. Volatility: Significant periods of high volatility\")\n",
    "    print(\"4. Stationarity: Log returns are stationary, suitable for change point analysis\")\n",
    "    print(\"\\nNext Steps for Task 1:\")\n",
    "    print(\"1. Event Research: Compile structured dataset of geopolitical events\")\n",
    "    print(\"2. Assumptions Documentation: Define correlation vs. causation framework\")\n",
    "    print(\"3. Workflow Definition: Establish reproducible analysis pipeline\")\n",
    "    print(\"4. Communication Plan: Identify stakeholder communication channels\")"
   ]
  },
  {
   "cell_type": "code",
   "execution_count": null,
   "id": "f7d93af6",
   "metadata": {
    "lines_to_next_cell": 1
   },
   "outputs": [],
   "source": [
    "def main():\n",
    "    \"\"\"Main function to run the complete data exploration\"\"\"\n",
    "    \n",
    "    print(\"=\"*60)\n",
    "    print(\"TASK 1: DATA EXPLORATION AND FOUNDATION SETUP\")\n",
    "    print(\"=\"*60)\n",
    "    \n",
    "    # 1. Load and explore data\n",
    "    print(\"\\n1. Loading and exploring data...\")\n",
    "    df = load_and_explore_data()\n",
    "    \n",
    "    # 2. Preprocess data\n",
    "    print(\"\\n2. Preprocessing data...\")\n",
    "    df = preprocess_data(df)\n",
    "    \n",
    "    # 3. Basic statistics\n",
    "    print(\"\\n3. Calculating basic statistics...\")\n",
    "    basic_statistics(df)\n",
    "    \n",
    "    # 4. Time series visualization\n",
    "    print(\"\\n4. Creating time series visualization...\")\n",
    "    plot_time_series(df)\n",
    "    \n",
    "    # 5. Log returns analysis\n",
    "    print(\"\\n5. Analyzing log returns...\")\n",
    "    df_clean = analyze_log_returns(df)\n",
    "    \n",
    "    # 6. Volatility analysis\n",
    "    print(\"\\n6. Analyzing volatility...\")\n",
    "    analyze_volatility(df_clean)\n",
    "    \n",
    "    # 7. Stationarity tests\n",
    "    print(\"\\n7. Performing stationarity tests...\")\n",
    "    stationarity_tests(df, df_clean)\n",
    "    \n",
    "    # 8. Save results and summary\n",
    "    print(\"\\n8. Saving results and summary...\")\n",
    "    save_results(df_clean)\n",
    "    \n",
    "    print(\"\\n\" + \"=\"*60)\n",
    "    print(\"DATA EXPLORATION COMPLETE!\")\n",
    "    print(\"=\"*60)"
   ]
  },
  {
   "cell_type": "code",
   "execution_count": null,
   "id": "0ce1e1fc",
   "metadata": {},
   "outputs": [],
   "source": [
    "if __name__ == \"__main__\":\n",
    "    main() "
   ]
  }
 ],
 "metadata": {
  "jupytext": {
   "cell_metadata_filter": "-all",
   "main_language": "python",
   "notebook_metadata_filter": "-all"
  }
 },
 "nbformat": 4,
 "nbformat_minor": 5
}
